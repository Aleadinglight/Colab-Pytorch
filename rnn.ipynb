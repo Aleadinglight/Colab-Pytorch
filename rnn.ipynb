{
  "nbformat": 4,
  "nbformat_minor": 0,
  "metadata": {
    "colab": {
      "name": "rnn.ipynb",
      "version": "0.3.2",
      "provenance": [],
      "collapsed_sections": [],
      "include_colab_link": true
    },
    "kernelspec": {
      "name": "python3",
      "display_name": "Python 3"
    }
  },
  "cells": [
    {
      "cell_type": "markdown",
      "metadata": {
        "id": "view-in-github",
        "colab_type": "text"
      },
      "source": [
        "[View in Colaboratory](https://colab.research.google.com/github/Aleadinglight/Colab-Pytorch-example/blob/master/rnn.ipynb)"
      ]
    },
    {
      "metadata": {
        "id": "AFOTw23E6EDt",
        "colab_type": "text"
      },
      "cell_type": "markdown",
      "source": [
        "# Recurrent neural network\n",
        "Train a recurrent neural network to output \"ihello\" from \"hihell\"\n",
        "If error about float and longtensor then check the input of the network, cast it to float most of the time will be fine."
      ]
    },
    {
      "metadata": {
        "id": "U98R19ZOoN4r",
        "colab_type": "code",
        "colab": {
          "base_uri": "https://localhost:8080/",
          "height": 2217
        },
        "outputId": "0e666469-268a-4226-f523-35d74e508050"
      },
      "cell_type": "code",
      "source": [
        "import torch\n",
        "import torch.nn as nn\n",
        "import torch.nn.functional as F\n",
        "import matplotlib.pyplot as plt\n",
        "\n",
        "import numpy as np\n",
        "\n",
        "# Number of seq_len is len(example)-1 == time steps\n",
        "seq_len = 6 # |hihell|==6\n",
        "# Number of batches\n",
        "batch_size = 1\n",
        "# Number of features\n",
        "input_size = 5 \n",
        "# Hidden size, output size\n",
        "hidden_size = 5   \n",
        "# Number of layers\n",
        "num_layer=1\n",
        "# One hot encoding for each char in 'h','i','e','l','o'\n",
        "h = [1, 0, 0, 0, 0]\n",
        "i = [0, 1, 0, 0, 0]\n",
        "e = [0, 0, 1, 0, 0]\n",
        "l = [0, 0, 0, 1, 0]\n",
        "o = [0, 0, 0, 0, 1]\n",
        "\n",
        "idx2char = ['h', 'i', 'e', 'l', 'o']\n",
        "# Teach hihell -> ihello\n",
        "\n",
        "# The input need to match this format: (seg_len, batch_size, input_size)\n",
        "input = torch.tensor([h, i, h, e, l, l], dtype = torch.float)\n",
        "input = input.view(seq_len, batch_size, input_size)\n",
        "\n",
        "# Same with target (1, batch_size, hidden_size)\n",
        "y_data = [1, 0, 2, 3, 3, 4]    # ihello\n",
        "target = torch.tensor(y_data)\n",
        "#print(input.size(), target.size())\n",
        "\n",
        "# Create random hidden state\n",
        "state = torch.randn(num_layer, batch_size, hidden_size)\n",
        "\n",
        "# Create RNN \n",
        "rnn = nn.RNN(input_size=input_size, \n",
        "             hidden_size=hidden_size, \n",
        "             num_layers=1, \n",
        "             nonlinearity='tanh')\n",
        "\n",
        "# Use optim\n",
        "parameters = rnn.parameters()\n",
        "optimizer = torch.optim.Adam(parameters, lr = 1e-2)\n",
        "# Loss function\n",
        "criterion = torch.nn.CrossEntropyLoss()\n",
        "\n",
        "loss_value = []\n",
        "iteration = []\n",
        "# Train\n",
        "for epoch in range(250):\n",
        "    out,state = rnn(input,state)\n",
        "    out = out.view(seq_len, -1)\n",
        "    res =  [idx2char[x] for x in torch.argmax(out, dim=1)]\n",
        "    loss = criterion(out,target)\n",
        "    # Print result occasionally\n",
        "    if epoch%10 == 0:\n",
        "        print('epoch = ', epoch)\n",
        "        print('loss = ', loss.item())\n",
        "        print(res)\n",
        "        print('---------------------\\n')\n",
        "    optimizer.zero_grad()\n",
        "    loss.backward(retain_graph=True)\n",
        "    optimizer.step()\n",
        "    loss_value.append(loss)\n",
        "    iteration.append(epoch)"
      ],
      "execution_count": 73,
      "outputs": [
        {
          "output_type": "stream",
          "text": [
            "epoch =  0\n",
            "loss =  1.6038774251937866\n",
            "['o', 'o', 'i', 'l', 'l', 'h']\n",
            "---------------------\n",
            "\n",
            "epoch =  10\n",
            "loss =  1.2819880247116089\n",
            "['i', 'o', 'i', 'o', 'l', 'o']\n",
            "---------------------\n",
            "\n",
            "epoch =  20\n",
            "loss =  1.1190866231918335\n",
            "['i', 'o', 'i', 'h', 'l', 'o']\n",
            "---------------------\n",
            "\n",
            "epoch =  30\n",
            "loss =  1.0227762460708618\n",
            "['i', 'h', 'i', 'h', 'l', 'o']\n",
            "---------------------\n",
            "\n",
            "epoch =  40\n",
            "loss =  0.9429531693458557\n",
            "['i', 'h', 'e', 'h', 'l', 'o']\n",
            "---------------------\n",
            "\n",
            "epoch =  50\n",
            "loss =  0.8553230166435242\n",
            "['i', 'h', 'e', 'h', 'l', 'o']\n",
            "---------------------\n",
            "\n",
            "epoch =  60\n",
            "loss =  0.7794249653816223\n",
            "['i', 'h', 'e', 'h', 'l', 'o']\n",
            "---------------------\n",
            "\n",
            "epoch =  70\n",
            "loss =  0.7242036461830139\n",
            "['i', 'h', 'e', 'l', 'l', 'o']\n",
            "---------------------\n",
            "\n",
            "epoch =  80\n",
            "loss =  0.6766164302825928\n",
            "['i', 'h', 'e', 'l', 'l', 'o']\n",
            "---------------------\n",
            "\n",
            "epoch =  90\n",
            "loss =  0.6409178376197815\n",
            "['i', 'h', 'e', 'l', 'l', 'o']\n",
            "---------------------\n",
            "\n",
            "epoch =  100\n",
            "loss =  0.6142714023590088\n",
            "['i', 'h', 'e', 'l', 'l', 'o']\n",
            "---------------------\n",
            "\n",
            "epoch =  110\n",
            "loss =  0.5945809483528137\n",
            "['i', 'h', 'e', 'l', 'l', 'o']\n",
            "---------------------\n",
            "\n",
            "epoch =  120\n",
            "loss =  0.5797492861747742\n",
            "['i', 'h', 'e', 'l', 'l', 'o']\n",
            "---------------------\n",
            "\n",
            "epoch =  130\n",
            "loss =  0.568206250667572\n",
            "['i', 'h', 'e', 'l', 'l', 'o']\n",
            "---------------------\n",
            "\n",
            "epoch =  140\n",
            "loss =  0.5589420199394226\n",
            "['i', 'h', 'e', 'l', 'l', 'o']\n",
            "---------------------\n",
            "\n",
            "epoch =  150\n",
            "loss =  0.5512710213661194\n",
            "['i', 'h', 'e', 'l', 'l', 'o']\n",
            "---------------------\n",
            "\n",
            "epoch =  160\n",
            "loss =  0.5447676181793213\n",
            "['i', 'h', 'e', 'l', 'l', 'o']\n",
            "---------------------\n",
            "\n",
            "epoch =  170\n",
            "loss =  0.5391470193862915\n",
            "['i', 'h', 'e', 'l', 'l', 'o']\n",
            "---------------------\n",
            "\n",
            "epoch =  180\n",
            "loss =  0.5342200994491577\n",
            "['i', 'h', 'e', 'l', 'l', 'o']\n",
            "---------------------\n",
            "\n",
            "epoch =  190\n",
            "loss =  0.5298523306846619\n",
            "['i', 'h', 'e', 'l', 'l', 'o']\n",
            "---------------------\n",
            "\n",
            "epoch =  200\n",
            "loss =  0.5259447693824768\n",
            "['i', 'h', 'e', 'l', 'l', 'o']\n",
            "---------------------\n",
            "\n",
            "epoch =  210\n",
            "loss =  0.5224235653877258\n",
            "['i', 'h', 'e', 'l', 'l', 'o']\n",
            "---------------------\n",
            "\n",
            "epoch =  220\n",
            "loss =  0.519230842590332\n",
            "['i', 'h', 'e', 'l', 'l', 'o']\n",
            "---------------------\n",
            "\n",
            "epoch =  230\n",
            "loss =  0.5163207650184631\n",
            "['i', 'h', 'e', 'l', 'l', 'o']\n",
            "---------------------\n",
            "\n",
            "epoch =  240\n",
            "loss =  0.5136560201644897\n",
            "['i', 'h', 'e', 'l', 'l', 'o']\n",
            "---------------------\n",
            "\n"
          ],
          "name": "stdout"
        }
      ]
    },
    {
      "metadata": {
        "id": "XxyWniF65pP1",
        "colab_type": "text"
      },
      "cell_type": "markdown",
      "source": [
        "# Plotting the result"
      ]
    },
    {
      "metadata": {
        "id": "7ZlgTUa1vD5r",
        "colab_type": "code",
        "colab": {
          "base_uri": "https://localhost:8080/",
          "height": 376
        },
        "outputId": "2a0a12f0-bc53-4cec-cd39-9560f1155cbd"
      },
      "cell_type": "code",
      "source": [
        "# Plotting\n",
        "plt.plot(iteration, loss_value)\n",
        "\n",
        "# Add x label\n",
        "plt.xlabel('Iteration')\n",
        "# Add y label\n",
        "plt.ylabel('Loss value')\n",
        "# Add title\n",
        "plt.title('Training')\n",
        "\n",
        "# this render the plot\n",
        "plt.show()"
      ],
      "execution_count": 74,
      "outputs": [
        {
          "output_type": "display_data",
          "data": {
            "image/png": "[encoded data removed]",
            "text/plain": [
              "<matplotlib.figure.Figure at 0x7ffa48430898>"
            ]
          },
          "metadata": {
            "tags": []
          }
        }
      ]
    },
    {
      "metadata": {
        "id": "LmlnMRc-t9dE",
        "colab_type": "code",
        "colab": {
          "base_uri": "https://localhost:8080/",
          "height": 105
        },
        "outputId": "32f472fb-4505-4188-c5b7-920f425938db"
      },
      "cell_type": "code",
      "source": [
        "print(len(list(rnn.parameters())))\n",
        "# Input -> Hidden\n",
        "print(list(rnn.parameters())[0].size())\n",
        "# Hidden -> Hidden\n",
        "print(list(rnn.parameters())[1].size())\n",
        "# Hidden Bias\n",
        "print(list(rnn.parameters())[2].size())\n",
        "# Hidden -> output\n",
        "print(list(rnn.parameters())[3].size())"
      ],
      "execution_count": 11,
      "outputs": [
        {
          "output_type": "stream",
          "text": [
            "4\n",
            "torch.Size([5, 5])\n",
            "torch.Size([5, 5])\n",
            "torch.Size([5])\n",
            "torch.Size([5])\n"
          ],
          "name": "stdout"
        }
      ]
    },
    {
      "metadata": {
        "id": "5aeOX5pMhlps",
        "colab_type": "code",
        "colab": {
          "base_uri": "https://localhost:8080/",
          "height": 301
        },
        "outputId": "ad07b9d6-2e7c-4bbc-ac46-af9299d38fa0"
      },
      "cell_type": "code",
      "source": [
        "!pip3 install -q http://download.pytorch.org/whl/cu90/torch-0.4.0-cp36-cp36m-linux_x86_64.whl\n",
        "!pip3 install torchvision"
      ],
      "execution_count": 1,
      "outputs": [
        {
          "output_type": "stream",
          "text": [
            "tcmalloc: large alloc 1073750016 bytes == 0x5e8fa000 @  0x7fd8c89b81c4 0x46d6a4 0x5fcbcc 0x4c494d 0x54f3c4 0x553aaf 0x54e4c8 0x54f4f6 0x553aaf 0x54efc1 0x54f24d 0x553aaf 0x54efc1 0x54f24d 0x553aaf 0x54efc1 0x54f24d 0x551ee0 0x54e4c8 0x54f4f6 0x553aaf 0x54efc1 0x54f24d 0x551ee0 0x54efc1 0x54f24d 0x551ee0 0x54e4c8 0x54f4f6 0x553aaf 0x54e4c8\n",
            "Collecting torchvision\n",
            "\u001b[?25l  Downloading https://files.pythonhosted.org/packages/ca/0d/f00b2885711e08bd71242ebe7b96561e6f6d01fdb4b9dcf4d37e2e13c5e1/torchvision-0.2.1-py2.py3-none-any.whl (54kB)\n",
            "\u001b[K    100% |████████████████████████████████| 61kB 3.9MB/s \n",
            "\u001b[?25hCollecting pillow>=4.1.1 (from torchvision)\n",
            "\u001b[?25l  Downloading https://files.pythonhosted.org/packages/d1/24/f53ff6b61b3d728b90934bddb4f03f8ab584a7f49299bf3bde56e2952612/Pillow-5.2.0-cp36-cp36m-manylinux1_x86_64.whl (2.0MB)\n",
            "\u001b[K    100% |████████████████████████████████| 2.0MB 9.2MB/s \n",
            "\u001b[?25hRequirement already satisfied: six in /usr/local/lib/python3.6/dist-packages (from torchvision) (1.11.0)\n",
            "Requirement already satisfied: torch in /usr/local/lib/python3.6/dist-packages (from torchvision) (0.4.0)\n",
            "Requirement already satisfied: numpy in /usr/local/lib/python3.6/dist-packages (from torchvision) (1.14.5)\n",
            "Installing collected packages: pillow, torchvision\n",
            "  Found existing installation: Pillow 4.0.0\n",
            "    Uninstalling Pillow-4.0.0:\n",
            "      Successfully uninstalled Pillow-4.0.0\n",
            "Successfully installed pillow-5.2.0 torchvision-0.2.1\n"
          ],
          "name": "stdout"
        }
      ]
    }
  ]
}