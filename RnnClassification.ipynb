{
  "nbformat": 4,
  "nbformat_minor": 0,
  "metadata": {
    "colab": {
      "name": "RnnClassification.ipynb",
      "version": "0.3.2",
      "provenance": [],
      "collapsed_sections": [],
      "include_colab_link": true
    },
    "kernelspec": {
      "name": "python3",
      "display_name": "Python 3"
    }
  },
  "cells": [
    {
      "cell_type": "markdown",
      "metadata": {
        "id": "view-in-github",
        "colab_type": "text"
      },
      "source": [
        "[View in Colaboratory](https://colab.research.google.com/github/Aleadinglight/Colab-Pytorch/blob/master/RnnClassification.ipynb)"
      ]
    },
    {
      "metadata": {
        "id": "w3tLC5bnUUcN",
        "colab_type": "text"
      },
      "cell_type": "markdown",
      "source": [
        "# Data representation\n",
        "\n",
        "Use embedding:\n",
        "\n",
        "**input**\n",
        "\n",
        "[a, d, y, l, o, v ] \n",
        "\n",
        "-> **ascii**\n",
        "\n",
        "[97, 100, 121, 108, 111, 118]\n",
        "\n",
        "-> **embedding**\n",
        "\n",
        "[ 1.1080, -1.3030,  1.2725, -0.8986, -0.8934, -0.0736],\n",
        "\n",
        "[-0.4639,  0.5690,  0.0146,  1.6747, -0.1722, -0.0650],\n",
        "\n",
        "[-1.1853,  0.9748,  1.6597,  0.1659, -0.1498,  0.5069],\n",
        "\n",
        "[ 1.1844,  1.6205, -1.4447,  0.1884, -0.3748, -0.0639],\n",
        "\n",
        "[-0.1475,  0.6008, -1.4215,  2.6220,  0.2936, -0.4077],\n",
        "\n",
        "[-0.6271, -0.5965,  0.6948, -0.3175, -0.3663, -1.2138]\n",
        "\n",
        "\n"
      ]
    },
    {
      "metadata": {
        "id": "vDI-zQBFUFWW",
        "colab_type": "code",
        "colab": {
          "base_uri": "https://localhost:8080/",
          "height": 118
        },
        "outputId": "0e575f71-faaa-4ec0-fd5d-274af09aa45b"
      },
      "cell_type": "code",
      "source": [
        "import torch\n",
        "import torch.nn as nn\n",
        "\n",
        "# ASCii\n",
        "input_vocab_size = 128\n",
        "# Input size of the rnn\n",
        "rnn_input_size = 6\n",
        "\n",
        "# Create input for ascii\n",
        "input = [97, 100, 121, 108, 111, 118]\n",
        "input = torch.tensor(input,dtype=torch.long)\n",
        "# Create an embedding table that for RNN\n",
        "embedding = nn.Embedding(input_vocab_size, rnn_input_size)\n",
        "embedded = embedding(input)\n",
        "print(embedded)"
      ],
      "execution_count": 13,
      "outputs": [
        {
          "output_type": "stream",
          "text": [
            "tensor([[ 1.1080, -1.3030,  1.2725, -0.8986, -0.8934, -0.0736],\n",
            "        [-0.4639,  0.5690,  0.0146,  1.6747, -0.1722, -0.0650],\n",
            "        [-1.1853,  0.9748,  1.6597,  0.1659, -0.1498,  0.5069],\n",
            "        [ 1.1844,  1.6205, -1.4447,  0.1884, -0.3748, -0.0639],\n",
            "        [-0.1475,  0.6008, -1.4215,  2.6220,  0.2936, -0.4077],\n",
            "        [-0.6271, -0.5965,  0.6948, -0.3175, -0.3663, -1.2138]])\n"
          ],
          "name": "stdout"
        }
      ]
    },
    {
      "metadata": {
        "id": "e65yV1pSZ4MZ",
        "colab_type": "text"
      },
      "cell_type": "markdown",
      "source": [
        "# Structure of a RNN Classification"
      ]
    },
    {
      "metadata": {
        "id": "v5K-m6fjZ8nA",
        "colab_type": "code",
        "colab": {}
      },
      "cell_type": "code",
      "source": [
        "class RNNClassifier(nn.Module)\n",
        "    \n",
        "    def __init__(self, vocab_size, hidden_size, output_size, n_layers):\n",
        "        super(RNNClassifier, self).__init__()\n",
        "        self.hidden_size = hidden_size\n",
        "        self.n_layers = n_layers\n",
        "        # hidden_size is the output_size of rnn\n",
        "        self.embedding = nn.Embedding(vocab_size, hidden_size)\n",
        "        # Use GRU as the rnn layer\n",
        "        self.gru = nn.GRU(self.hidden_size, self.hidden_size)\n",
        "        # Fully connected layer\n",
        "        self.fc = nn.Linear(hidden_size, output_size) \n",
        "    \n",
        "    def forward(self, input):\n",
        "        # get batch_size from input somehow\n",
        "        # ...\n",
        "        # init hidden\n",
        "        hidden = __init__hidden(batch_size)\n",
        "        # embed the input\n",
        "        embedded = self.embedding(input)\n",
        "        # feed to rnn\n",
        "        output, hidden = self.gru(embedded, hidden)\n",
        "        # feed the output of rnn to fully connected layer\n",
        "        fc_output = self.fc(hidden)\n",
        "        return fc.output\n",
        "    \n",
        "    def __init__hidden(self, batch_size):\n",
        "        hidden = torch.zeros(self.n_layers, batch_size, self.hidden_size)\n",
        "        return hidden\n",
        "\n",
        "HIDDEN_SIZE = 100\n",
        "N_CHARS = 128  # ASCII\n",
        "N_CLASSES = 18      \n",
        "classifier = RNNClassifier(N_CHARS, HIDDEN_SIZE, N_CLASSES)"
      ],
      "execution_count": 0,
      "outputs": []
    },
    {
      "metadata": {
        "id": "0mAcAaxaUAKi",
        "colab_type": "code",
        "colab": {
          "base_uri": "https://localhost:8080/",
          "height": 121
        },
        "outputId": "f272b792-1615-4183-a1ad-758ce52bb087"
      },
      "cell_type": "code",
      "source": [
        "!pip3 install -q http://download.pytorch.org/whl/cu90/torch-0.4.0-cp36-cp36m-linux_x86_64.whl\n",
        "!pip3 install torchvision"
      ],
      "execution_count": 1,
      "outputs": [
        {
          "output_type": "stream",
          "text": [
            "Requirement already satisfied: torchvision in /usr/local/lib/python3.6/dist-packages (0.2.1)\r\n",
            "Requirement already satisfied: pillow>=4.1.1 in /usr/local/lib/python3.6/dist-packages (from torchvision) (5.2.0)\r\n",
            "Requirement already satisfied: torch in /usr/local/lib/python3.6/dist-packages (from torchvision) (0.4.0)\n",
            "Requirement already satisfied: six in /usr/local/lib/python3.6/dist-packages (from torchvision) (1.11.0)\n",
            "Requirement already satisfied: numpy in /usr/local/lib/python3.6/dist-packages (from torchvision) (1.14.5)\n"
          ],
          "name": "stdout"
        }
      ]
    }
  ]
}