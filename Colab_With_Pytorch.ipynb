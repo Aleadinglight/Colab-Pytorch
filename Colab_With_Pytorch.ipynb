{
  "nbformat": 4,
  "nbformat_minor": 0,
  "metadata": {
    "colab": {
      "name": "Colab_With_Pytorch.ipynb",
      "version": "0.3.2",
      "views": {},
      "default_view": {},
      "provenance": [],
      "collapsed_sections": []
    },
    "kernelspec": {
      "name": "python3",
      "display_name": "Python 3"
    },
    "accelerator": "GPU"
  },
  "cells": [
    {
      "metadata": {
        "id": "cbxEENR1Kqgg",
        "colab_type": "text"
      },
      "cell_type": "markdown",
      "source": [
        "# First, let's install Pytorch"
      ]
    },
    {
      "metadata": {
        "id": "AJ3ePZ2sKpsA",
        "colab_type": "code",
        "colab": {
          "autoexec": {
            "startup": false,
            "wait_interval": 0
          },
          "base_uri": "https://localhost:8080/",
          "height": 34
        },
        "outputId": "73b5b2e6-cf0b-4763-d739-3dce35f18a5e",
        "executionInfo": {
          "status": "ok",
          "timestamp": 1529485383545,
          "user_tz": -420,
          "elapsed": 3061,
          "user": {
            "displayName": "Ân Hồ",
            "photoUrl": "//lh5.googleusercontent.com/-iTZgVnsd1ho/AAAAAAAAAAI/AAAAAAAAADE/dg5JmELypEs/s50-c-k-no/photo.jpg",
            "userId": "107625846434484173285"
          }
        }
      },
      "cell_type": "code",
      "source": [
        "!pip3 install -q http://download.pytorch.org/whl/cu90/torch-0.4.0-cp36-cp36m-linux_x86_64.whl"
      ],
      "execution_count": 2,
      "outputs": [
        {
          "output_type": "stream",
          "text": [
            "Requirement already satisfied: torch==0.4.0 from http://download.pytorch.org/whl/cu90/torch-0.4.0-cp36-cp36m-linux_x86_64.whl in /usr/local/lib/python3.6/dist-packages (0.4.0)\r\n"
          ],
          "name": "stdout"
        }
      ]
    },
    {
      "metadata": {
        "id": "-KAhboz_bxSZ",
        "colab_type": "code",
        "colab": {
          "autoexec": {
            "startup": false,
            "wait_interval": 0
          },
          "base_uri": "https://localhost:8080/",
          "height": 151
        },
        "outputId": "3025fa61-99f2-467e-8c0f-bf65c3d042aa",
        "executionInfo": {
          "status": "ok",
          "timestamp": 1529485409132,
          "user_tz": -420,
          "elapsed": 3232,
          "user": {
            "displayName": "Ân Hồ",
            "photoUrl": "//lh5.googleusercontent.com/-iTZgVnsd1ho/AAAAAAAAAAI/AAAAAAAAADE/dg5JmELypEs/s50-c-k-no/photo.jpg",
            "userId": "107625846434484173285"
          }
        }
      },
      "cell_type": "code",
      "source": [
        "!pip3 install torchvision"
      ],
      "execution_count": 3,
      "outputs": [
        {
          "output_type": "stream",
          "text": [
            "Collecting torchvision\n",
            "  Using cached https://files.pythonhosted.org/packages/ca/0d/f00b2885711e08bd71242ebe7b96561e6f6d01fdb4b9dcf4d37e2e13c5e1/torchvision-0.2.1-py2.py3-none-any.whl\n",
            "Requirement already satisfied: pillow>=4.1.1 in /usr/local/lib/python3.6/dist-packages (from torchvision) (5.1.0)\n",
            "Requirement already satisfied: numpy in /usr/local/lib/python3.6/dist-packages (from torchvision) (1.14.5)\n",
            "Requirement already satisfied: torch in /usr/local/lib/python3.6/dist-packages (from torchvision) (0.4.0)\n",
            "Requirement already satisfied: six in /usr/local/lib/python3.6/dist-packages (from torchvision) (1.11.0)\n",
            "Installing collected packages: torchvision\n",
            "Successfully installed torchvision-0.2.1\n"
          ],
          "name": "stdout"
        }
      ]
    },
    {
      "metadata": {
        "id": "sudjxqmDMhVa",
        "colab_type": "text"
      },
      "cell_type": "markdown",
      "source": [
        "# Check if Pytorch is already installed"
      ]
    },
    {
      "metadata": {
        "id": "tFt04li4MhfI",
        "colab_type": "code",
        "colab": {
          "autoexec": {
            "startup": false,
            "wait_interval": 0
          },
          "base_uri": "https://localhost:8080/",
          "height": 118
        },
        "outputId": "d225aea3-c61a-4643-b2f7-ba0ffae29071",
        "executionInfo": {
          "status": "ok",
          "timestamp": 1529485420441,
          "user_tz": -420,
          "elapsed": 9004,
          "user": {
            "displayName": "Ân Hồ",
            "photoUrl": "//lh5.googleusercontent.com/-iTZgVnsd1ho/AAAAAAAAAAI/AAAAAAAAADE/dg5JmELypEs/s50-c-k-no/photo.jpg",
            "userId": "107625846434484173285"
          }
        }
      },
      "cell_type": "code",
      "source": [
        "import torch\n",
        "print(torch.__version__)\n",
        "x = torch.rand(5, 3)\n",
        "print(x)"
      ],
      "execution_count": 4,
      "outputs": [
        {
          "output_type": "stream",
          "text": [
            "0.4.0\n",
            "tensor([[ 0.6752,  0.3122,  0.6386],\n",
            "        [ 0.4139,  0.3470,  0.1569],\n",
            "        [ 0.4539,  0.8427,  0.8945],\n",
            "        [ 0.5773,  0.6610,  0.0795],\n",
            "        [ 0.0725,  0.6064,  0.7266]])\n"
          ],
          "name": "stdout"
        }
      ]
    },
    {
      "metadata": {
        "id": "LJfxMLUrOot_",
        "colab_type": "text"
      },
      "cell_type": "markdown",
      "source": [
        "# Check if we can use GPU"
      ]
    },
    {
      "metadata": {
        "id": "yz_bGQ4IOoUX",
        "colab_type": "code",
        "colab": {
          "autoexec": {
            "startup": false,
            "wait_interval": 0
          },
          "base_uri": "https://localhost:8080/",
          "height": 185
        },
        "outputId": "d54a0572-3ece-4e5f-88cf-a7e8fed0981a",
        "executionInfo": {
          "status": "ok",
          "timestamp": 1529485443129,
          "user_tz": -420,
          "elapsed": 5633,
          "user": {
            "displayName": "Ân Hồ",
            "photoUrl": "//lh5.googleusercontent.com/-iTZgVnsd1ho/AAAAAAAAAAI/AAAAAAAAADE/dg5JmELypEs/s50-c-k-no/photo.jpg",
            "userId": "107625846434484173285"
          }
        }
      },
      "cell_type": "code",
      "source": [
        "import torch\n",
        "\n",
        "# We will use ``torch.device`` objects to move tensors in and out of GPU\n",
        "if torch.cuda.is_available():\n",
        "    device = torch.device(\"cuda\")          # a CUDA device object\n",
        "    y = torch.ones_like(x, device=device)  # directly create a tensor on GPU\n",
        "    x = x.to(device)                       # or just use strings ``.to(\"cuda\")``\n",
        "    z = x + y\n",
        "    print(z)\n",
        "    print(z.to(\"cpu\", torch.double))       # ``.to`` can also change dtype together!\n",
        "else:\n",
        "    print(\"No GPU available!\")"
      ],
      "execution_count": 5,
      "outputs": [
        {
          "output_type": "stream",
          "text": [
            "tensor([[ 1.6752,  1.3122,  1.6386],\n",
            "        [ 1.4139,  1.3470,  1.1569],\n",
            "        [ 1.4539,  1.8427,  1.8945],\n",
            "        [ 1.5773,  1.6610,  1.0795],\n",
            "        [ 1.0725,  1.6064,  1.7266]], device='cuda:0')\n",
            "tensor([[ 1.6752,  1.3122,  1.6386],\n",
            "        [ 1.4139,  1.3470,  1.1569],\n",
            "        [ 1.4539,  1.8427,  1.8945],\n",
            "        [ 1.5773,  1.6610,  1.0795],\n",
            "        [ 1.0725,  1.6064,  1.7266]], dtype=torch.float64)\n"
          ],
          "name": "stdout"
        }
      ]
    }
  ]
}